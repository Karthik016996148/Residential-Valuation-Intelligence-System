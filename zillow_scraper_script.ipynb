{
 "cells": [
  {
   "cell_type": "code",
   "execution_count": 86,
   "id": "d409ddcb",
   "metadata": {},
   "outputs": [],
   "source": []
  },
  {
   "cell_type": "code",
   "execution_count": 3,
   "id": "a213747b-d130-40e8-9065-32a4ba5ed756",
   "metadata": {},
   "outputs": [
    {
     "ename": "ValueError",
     "evalue": "If using all scalar values, you must pass an index",
     "output_type": "error",
     "traceback": [
      "\u001b[1;31m---------------------------------------------------------------------------\u001b[0m",
      "\u001b[1;31mValueError\u001b[0m                                Traceback (most recent call last)",
      "\u001b[1;32m~\\AppData\\Local\\Temp/ipykernel_9760/1940784170.py\u001b[0m in \u001b[0;36m<module>\u001b[1;34m\u001b[0m\n\u001b[0;32m     29\u001b[0m         \u001b[1;31m# Create a DataFrame from the JSON response.\u001b[0m\u001b[1;33m\u001b[0m\u001b[1;33m\u001b[0m\u001b[0m\n\u001b[0;32m     30\u001b[0m         \u001b[1;31m# Note: This step assumes that the JSON response is structured as a list of records.\u001b[0m\u001b[1;33m\u001b[0m\u001b[1;33m\u001b[0m\u001b[0m\n\u001b[1;32m---> 31\u001b[1;33m         \u001b[0mdf\u001b[0m \u001b[1;33m=\u001b[0m \u001b[0mpd\u001b[0m\u001b[1;33m.\u001b[0m\u001b[0mDataFrame\u001b[0m\u001b[1;33m(\u001b[0m\u001b[0mdata\u001b[0m\u001b[1;33m)\u001b[0m\u001b[1;33m\u001b[0m\u001b[1;33m\u001b[0m\u001b[0m\n\u001b[0m\u001b[0;32m     32\u001b[0m \u001b[1;33m\u001b[0m\u001b[0m\n\u001b[0;32m     33\u001b[0m         \u001b[1;31m# Append the newly created DataFrame to the list of DataFrames.\u001b[0m\u001b[1;33m\u001b[0m\u001b[1;33m\u001b[0m\u001b[0m\n",
      "\u001b[1;32mD:\\ANACONDA\\lib\\site-packages\\pandas\\core\\frame.py\u001b[0m in \u001b[0;36m__init__\u001b[1;34m(self, data, index, columns, dtype, copy)\u001b[0m\n\u001b[0;32m    612\u001b[0m         \u001b[1;32melif\u001b[0m \u001b[0misinstance\u001b[0m\u001b[1;33m(\u001b[0m\u001b[0mdata\u001b[0m\u001b[1;33m,\u001b[0m \u001b[0mdict\u001b[0m\u001b[1;33m)\u001b[0m\u001b[1;33m:\u001b[0m\u001b[1;33m\u001b[0m\u001b[1;33m\u001b[0m\u001b[0m\n\u001b[0;32m    613\u001b[0m             \u001b[1;31m# GH#38939 de facto copy defaults to False only in non-dict cases\u001b[0m\u001b[1;33m\u001b[0m\u001b[1;33m\u001b[0m\u001b[0m\n\u001b[1;32m--> 614\u001b[1;33m             \u001b[0mmgr\u001b[0m \u001b[1;33m=\u001b[0m \u001b[0mdict_to_mgr\u001b[0m\u001b[1;33m(\u001b[0m\u001b[0mdata\u001b[0m\u001b[1;33m,\u001b[0m \u001b[0mindex\u001b[0m\u001b[1;33m,\u001b[0m \u001b[0mcolumns\u001b[0m\u001b[1;33m,\u001b[0m \u001b[0mdtype\u001b[0m\u001b[1;33m=\u001b[0m\u001b[0mdtype\u001b[0m\u001b[1;33m,\u001b[0m \u001b[0mcopy\u001b[0m\u001b[1;33m=\u001b[0m\u001b[0mcopy\u001b[0m\u001b[1;33m,\u001b[0m \u001b[0mtyp\u001b[0m\u001b[1;33m=\u001b[0m\u001b[0mmanager\u001b[0m\u001b[1;33m)\u001b[0m\u001b[1;33m\u001b[0m\u001b[1;33m\u001b[0m\u001b[0m\n\u001b[0m\u001b[0;32m    615\u001b[0m         \u001b[1;32melif\u001b[0m \u001b[0misinstance\u001b[0m\u001b[1;33m(\u001b[0m\u001b[0mdata\u001b[0m\u001b[1;33m,\u001b[0m \u001b[0mma\u001b[0m\u001b[1;33m.\u001b[0m\u001b[0mMaskedArray\u001b[0m\u001b[1;33m)\u001b[0m\u001b[1;33m:\u001b[0m\u001b[1;33m\u001b[0m\u001b[1;33m\u001b[0m\u001b[0m\n\u001b[0;32m    616\u001b[0m             \u001b[1;32mimport\u001b[0m \u001b[0mnumpy\u001b[0m\u001b[1;33m.\u001b[0m\u001b[0mma\u001b[0m\u001b[1;33m.\u001b[0m\u001b[0mmrecords\u001b[0m \u001b[1;32mas\u001b[0m \u001b[0mmrecords\u001b[0m\u001b[1;33m\u001b[0m\u001b[1;33m\u001b[0m\u001b[0m\n",
      "\u001b[1;32mD:\\ANACONDA\\lib\\site-packages\\pandas\\core\\internals\\construction.py\u001b[0m in \u001b[0;36mdict_to_mgr\u001b[1;34m(data, index, columns, dtype, typ, copy)\u001b[0m\n\u001b[0;32m    462\u001b[0m         \u001b[1;31m# TODO: can we get rid of the dt64tz special case above?\u001b[0m\u001b[1;33m\u001b[0m\u001b[1;33m\u001b[0m\u001b[0m\n\u001b[0;32m    463\u001b[0m \u001b[1;33m\u001b[0m\u001b[0m\n\u001b[1;32m--> 464\u001b[1;33m     return arrays_to_mgr(\n\u001b[0m\u001b[0;32m    465\u001b[0m         \u001b[0marrays\u001b[0m\u001b[1;33m,\u001b[0m \u001b[0mdata_names\u001b[0m\u001b[1;33m,\u001b[0m \u001b[0mindex\u001b[0m\u001b[1;33m,\u001b[0m \u001b[0mcolumns\u001b[0m\u001b[1;33m,\u001b[0m \u001b[0mdtype\u001b[0m\u001b[1;33m=\u001b[0m\u001b[0mdtype\u001b[0m\u001b[1;33m,\u001b[0m \u001b[0mtyp\u001b[0m\u001b[1;33m=\u001b[0m\u001b[0mtyp\u001b[0m\u001b[1;33m,\u001b[0m \u001b[0mconsolidate\u001b[0m\u001b[1;33m=\u001b[0m\u001b[0mcopy\u001b[0m\u001b[1;33m\u001b[0m\u001b[1;33m\u001b[0m\u001b[0m\n\u001b[0;32m    466\u001b[0m     )\n",
      "\u001b[1;32mD:\\ANACONDA\\lib\\site-packages\\pandas\\core\\internals\\construction.py\u001b[0m in \u001b[0;36marrays_to_mgr\u001b[1;34m(arrays, arr_names, index, columns, dtype, verify_integrity, typ, consolidate)\u001b[0m\n\u001b[0;32m    117\u001b[0m         \u001b[1;31m# figure out the index, if necessary\u001b[0m\u001b[1;33m\u001b[0m\u001b[1;33m\u001b[0m\u001b[0m\n\u001b[0;32m    118\u001b[0m         \u001b[1;32mif\u001b[0m \u001b[0mindex\u001b[0m \u001b[1;32mis\u001b[0m \u001b[1;32mNone\u001b[0m\u001b[1;33m:\u001b[0m\u001b[1;33m\u001b[0m\u001b[1;33m\u001b[0m\u001b[0m\n\u001b[1;32m--> 119\u001b[1;33m             \u001b[0mindex\u001b[0m \u001b[1;33m=\u001b[0m \u001b[0m_extract_index\u001b[0m\u001b[1;33m(\u001b[0m\u001b[0marrays\u001b[0m\u001b[1;33m)\u001b[0m\u001b[1;33m\u001b[0m\u001b[1;33m\u001b[0m\u001b[0m\n\u001b[0m\u001b[0;32m    120\u001b[0m         \u001b[1;32melse\u001b[0m\u001b[1;33m:\u001b[0m\u001b[1;33m\u001b[0m\u001b[1;33m\u001b[0m\u001b[0m\n\u001b[0;32m    121\u001b[0m             \u001b[0mindex\u001b[0m \u001b[1;33m=\u001b[0m \u001b[0mensure_index\u001b[0m\u001b[1;33m(\u001b[0m\u001b[0mindex\u001b[0m\u001b[1;33m)\u001b[0m\u001b[1;33m\u001b[0m\u001b[1;33m\u001b[0m\u001b[0m\n",
      "\u001b[1;32mD:\\ANACONDA\\lib\\site-packages\\pandas\\core\\internals\\construction.py\u001b[0m in \u001b[0;36m_extract_index\u001b[1;34m(data)\u001b[0m\n\u001b[0;32m    623\u001b[0m \u001b[1;33m\u001b[0m\u001b[0m\n\u001b[0;32m    624\u001b[0m         \u001b[1;32mif\u001b[0m \u001b[1;32mnot\u001b[0m \u001b[0mindexes\u001b[0m \u001b[1;32mand\u001b[0m \u001b[1;32mnot\u001b[0m \u001b[0mraw_lengths\u001b[0m\u001b[1;33m:\u001b[0m\u001b[1;33m\u001b[0m\u001b[1;33m\u001b[0m\u001b[0m\n\u001b[1;32m--> 625\u001b[1;33m             \u001b[1;32mraise\u001b[0m \u001b[0mValueError\u001b[0m\u001b[1;33m(\u001b[0m\u001b[1;34m\"If using all scalar values, you must pass an index\"\u001b[0m\u001b[1;33m)\u001b[0m\u001b[1;33m\u001b[0m\u001b[1;33m\u001b[0m\u001b[0m\n\u001b[0m\u001b[0;32m    626\u001b[0m \u001b[1;33m\u001b[0m\u001b[0m\n\u001b[0;32m    627\u001b[0m         \u001b[1;32mif\u001b[0m \u001b[0mhave_series\u001b[0m\u001b[1;33m:\u001b[0m\u001b[1;33m\u001b[0m\u001b[1;33m\u001b[0m\u001b[0m\n",
      "\u001b[1;31mValueError\u001b[0m: If using all scalar values, you must pass an index"
     ]
    }
   ],
   "source": [
    "import requests\n",
    "import pandas as pd\n",
    "\n",
    "# Initialize an empty list to store DataFrames created from each API response.\n",
    "dfs = []\n",
    "\n",
    "# Set the base URL for the Zillow API.\n",
    "url = \"https://zillow56.p.rapidapi.com/search\"\n",
    "# Define the headers including the API key and host for the Zillow API.\n",
    "headers = {\n",
    "    \"X-RapidAPI-Key\": \"b7c73cd2c8msh64bbcb44f18ef34p16d1a9jsn841f840d488f\",\n",
    "    \"X-RapidAPI-Host\": \"zillow56.p.rapidapi.com\"\n",
    "}\n",
    "\n",
    "\n",
    "list_of_states= [\"Washington\",\"Virginia\",\"New Jersy\",\"New Hampshire\",\"Massachusetts\",\"Delaware\",\"California\",\"Texas\",\"Connecticut\",\"Florida\",\"Georgia\",\"Indiana\",\n",
    "                 \"Newyork\",\"North Carolina\",\"Ohio\",\"Pennsylvania\",\"Arizona\",\"\"]\n",
    "# Loop through pages 1 to 50 to fetch data for each page.\n",
    "\n",
    "for state in list_of_states:\n",
    "    for page in range(1, 50):\n",
    "        # Update the query string with the current page number.\n",
    "        querystring = {\"location\": state, \"page\": str(page)}\n",
    "        # Make the HTTP GET request to the Zillow API with the specified parameters.\n",
    "        response = requests.get(url, headers=headers, params=querystring)\n",
    "        # Parse the JSON response.\n",
    "        data = response.json()\n",
    "    \n",
    "        # Create a DataFrame from the JSON response.\n",
    "        # Note: This step assumes that the JSON response is structured as a list of records.\n",
    "        df = pd.DataFrame(data)\n",
    "    \n",
    "        # Append the newly created DataFrame to the list of DataFrames.\n",
    "        dfs.append(df)\n",
    "\n",
    "\n",
    "\n"
   ]
  },
  {
   "cell_type": "code",
   "execution_count": null,
   "id": "1139e499",
   "metadata": {},
   "outputs": [],
   "source": [
    "# Concatenate all the DataFrames in the list into a single DataFrame.\n",
    "# This results in a combined DataFrame containing the data from all pages.\n",
    "final_df = pd.concat(dfs, ignore_index=True)\n",
    "\n",
    "# Save the aggregated DataFrame to a CSV file without the index column.\n",
    "final_df.to_csv('all_merged_data.csv', index=False)"
   ]
  },
  {
   "cell_type": "code",
   "execution_count": null,
   "id": "a3bfa5f4",
   "metadata": {},
   "outputs": [],
   "source": []
  },
  {
   "cell_type": "markdown",
   "id": "9f637c29-f285-4394-a9bd-0f101d7d9aa1",
   "metadata": {},
   "source": [
    "## convert json to csv readable data"
   ]
  },
  {
   "cell_type": "code",
   "execution_count": 54,
   "id": "515af803",
   "metadata": {},
   "outputs": [],
   "source": []
  },
  {
   "cell_type": "code",
   "execution_count": null,
   "id": "7e79e53a",
   "metadata": {},
   "outputs": [],
   "source": [
    "import pandas as pd\n",
    "\n",
    "# Load the CSV file into a DataFrame.\n",
    "df = pd.read_csv('all_merged_data.csv')\n",
    "\n",
    "# Assuming 'df' is your DataFrame with the 'results' column containing dictionaries\n",
    "result_dicts = df['results'].apply(eval).tolist()\n",
    "\n",
    "# Create an empty list to store the row data\n",
    "row_data = []\n",
    "\n",
    "# Iterate over each dictionary\n",
    "for d in result_dicts:\n",
    "    row_data.append(d)\n",
    "\n",
    "# Create a new DataFrame from the row data\n",
    "new_df = pd.DataFrame(row_data)\n",
    "\n",
    "print(new_df.head())\n",
    "\n"
   ]
  },
  {
   "cell_type": "markdown",
   "id": "7ecd0c66-9ffb-4e4b-b70b-dcbdfe90e9bb",
   "metadata": {},
   "source": [
    "## Featutre Engineering"
   ]
  },
  {
   "cell_type": "markdown",
   "id": "0660d9b0-d159-494a-b6a5-156b07a77f83",
   "metadata": {},
   "source": [
    "## merge columns to lotArea_sqft and lotArea_sqft acres to  lotArea_sqft only "
   ]
  },
  {
   "cell_type": "code",
   "execution_count": 4,
   "id": "f4188317-e879-4d9d-ac16-c248875f7021",
   "metadata": {},
   "outputs": [
    {
     "ename": "NameError",
     "evalue": "name 'new_df' is not defined",
     "output_type": "error",
     "traceback": [
      "\u001b[1;31m---------------------------------------------------------------------------\u001b[0m",
      "\u001b[1;31mNameError\u001b[0m                                 Traceback (most recent call last)",
      "\u001b[1;32m~\\AppData\\Local\\Temp/ipykernel_9760/3871151261.py\u001b[0m in \u001b[0;36m<module>\u001b[1;34m\u001b[0m\n\u001b[0;32m     10\u001b[0m \u001b[1;33m\u001b[0m\u001b[0m\n\u001b[0;32m     11\u001b[0m \u001b[1;31m# Apply the conversion to a new column 'lotArea_sqft'.\u001b[0m\u001b[1;33m\u001b[0m\u001b[1;33m\u001b[0m\u001b[0m\n\u001b[1;32m---> 12\u001b[1;33m \u001b[0mnew_df\u001b[0m\u001b[1;33m[\u001b[0m\u001b[1;34m'lotArea_sqft'\u001b[0m\u001b[1;33m]\u001b[0m \u001b[1;33m=\u001b[0m \u001b[0mnew_df\u001b[0m\u001b[1;33m.\u001b[0m\u001b[0mapply\u001b[0m\u001b[1;33m(\u001b[0m\u001b[1;32mlambda\u001b[0m \u001b[0mrow\u001b[0m\u001b[1;33m:\u001b[0m \u001b[0mconvert_to_sqft\u001b[0m\u001b[1;33m(\u001b[0m\u001b[0mrow\u001b[0m\u001b[1;33m[\u001b[0m\u001b[1;34m'lotAreaValue'\u001b[0m\u001b[1;33m]\u001b[0m\u001b[1;33m,\u001b[0m \u001b[0mrow\u001b[0m\u001b[1;33m[\u001b[0m\u001b[1;34m'lotAreaUnit'\u001b[0m\u001b[1;33m]\u001b[0m\u001b[1;33m)\u001b[0m\u001b[1;33m,\u001b[0m \u001b[0maxis\u001b[0m\u001b[1;33m=\u001b[0m\u001b[1;36m1\u001b[0m\u001b[1;33m)\u001b[0m\u001b[1;33m\u001b[0m\u001b[1;33m\u001b[0m\u001b[0m\n\u001b[0m",
      "\u001b[1;31mNameError\u001b[0m: name 'new_df' is not defined"
     ]
    }
   ],
   "source": [
    "\n",
    "def convert_to_sqft(value, unit):\n",
    "    if pd.isna(value) or pd.isna(unit):  # Check for NaN or blank values.\n",
    "        return None  # Return None or you could choose to return 0 or another placeholder.\n",
    "    if unit == 'acres':\n",
    "        return value * 43560\n",
    "    elif unit == 'sqft':\n",
    "        return value\n",
    "    else:\n",
    "        raise ValueError(\"Unknown unit type\")\n",
    "\n",
    "# Apply the conversion to a new column 'lotArea_sqft'.\n",
    "new_df['lotArea_sqft'] = new_df.apply(lambda row: convert_to_sqft(row['lotAreaValue'], row['lotAreaUnit']), axis=1)\n"
   ]
  },
  {
   "cell_type": "markdown",
   "id": "ff5cd346-d012-4c80-9205-d7cfacf3877b",
   "metadata": {},
   "source": [
    "## keep only required columns"
   ]
  },
  {
   "cell_type": "code",
   "execution_count": 89,
   "id": "9b17f51a-76d0-4aa9-8625-888ff46ab147",
   "metadata": {},
   "outputs": [],
   "source": [
    "selected_columns = [\n",
    "    'bathrooms', 'bedrooms', 'city', 'homeType', \n",
    "    'latitude', 'longitude', 'livingArea',\n",
    "    'lotArea_sqft', 'price', 'state', \n",
    "    'streetAddress', 'zipcode'\n",
    "]\n",
    "\n",
    "df_selected = new_df[selected_columns]\n"
   ]
  },
  {
   "cell_type": "markdown",
   "id": "7dbf1671-ae95-4ef3-98d7-ae54adc3361f",
   "metadata": {},
   "source": []
  },
  {
   "cell_type": "code",
   "execution_count": 90,
   "id": "59df8725-411b-4040-a49f-9e4384076334",
   "metadata": {},
   "outputs": [
    {
     "data": {
      "text/plain": [
       "bathrooms        18859\n",
       "bedrooms         18584\n",
       "city             20131\n",
       "homeType         20131\n",
       "latitude         20001\n",
       "longitude        20001\n",
       "livingArea       18357\n",
       "lotArea_sqft     17325\n",
       "price            20131\n",
       "state            20131\n",
       "streetAddress    20131\n",
       "zipcode          20131\n",
       "dtype: int64"
      ]
     },
     "execution_count": 90,
     "metadata": {},
     "output_type": "execute_result"
    }
   ],
   "source": [
    "df_selected.count()"
   ]
  },
  {
   "cell_type": "code",
   "execution_count": 91,
   "id": "b1c69af0-5cc8-4d3f-bb1d-85cbe9b6fbd0",
   "metadata": {},
   "outputs": [
    {
     "data": {
      "text/html": [
       "<div>\n",
       "<style scoped>\n",
       "    .dataframe tbody tr th:only-of-type {\n",
       "        vertical-align: middle;\n",
       "    }\n",
       "\n",
       "    .dataframe tbody tr th {\n",
       "        vertical-align: top;\n",
       "    }\n",
       "\n",
       "    .dataframe thead th {\n",
       "        text-align: right;\n",
       "    }\n",
       "</style>\n",
       "<table border=\"1\" class=\"dataframe\">\n",
       "  <thead>\n",
       "    <tr style=\"text-align: right;\">\n",
       "      <th></th>\n",
       "      <th>bathrooms</th>\n",
       "      <th>bedrooms</th>\n",
       "      <th>city</th>\n",
       "      <th>homeType</th>\n",
       "      <th>latitude</th>\n",
       "      <th>longitude</th>\n",
       "      <th>livingArea</th>\n",
       "      <th>lotArea_sqft</th>\n",
       "      <th>price</th>\n",
       "      <th>state</th>\n",
       "      <th>streetAddress</th>\n",
       "      <th>zipcode</th>\n",
       "    </tr>\n",
       "  </thead>\n",
       "  <tbody>\n",
       "    <tr>\n",
       "      <th>0</th>\n",
       "      <td>2.0</td>\n",
       "      <td>3.0</td>\n",
       "      <td>Mesa</td>\n",
       "      <td>SINGLE_FAMILY</td>\n",
       "      <td>33.399773</td>\n",
       "      <td>-111.664310</td>\n",
       "      <td>1835.0</td>\n",
       "      <td>6852.000</td>\n",
       "      <td>399900.0</td>\n",
       "      <td>AZ</td>\n",
       "      <td>7732 E Pueblo Ave</td>\n",
       "      <td>85208</td>\n",
       "    </tr>\n",
       "    <tr>\n",
       "      <th>1</th>\n",
       "      <td>2.0</td>\n",
       "      <td>3.0</td>\n",
       "      <td>Florence</td>\n",
       "      <td>MANUFACTURED</td>\n",
       "      <td>32.959890</td>\n",
       "      <td>-111.323830</td>\n",
       "      <td>1569.0</td>\n",
       "      <td>64699.668</td>\n",
       "      <td>255000.0</td>\n",
       "      <td>AZ</td>\n",
       "      <td>8945 N Page Rd</td>\n",
       "      <td>85132</td>\n",
       "    </tr>\n",
       "    <tr>\n",
       "      <th>2</th>\n",
       "      <td>2.0</td>\n",
       "      <td>3.0</td>\n",
       "      <td>Lakeside</td>\n",
       "      <td>SINGLE_FAMILY</td>\n",
       "      <td>34.197773</td>\n",
       "      <td>-109.907320</td>\n",
       "      <td>2260.0</td>\n",
       "      <td>100623.600</td>\n",
       "      <td>649000.0</td>\n",
       "      <td>AZ</td>\n",
       "      <td>9347 Mountain Meadow Ln</td>\n",
       "      <td>85929</td>\n",
       "    </tr>\n",
       "    <tr>\n",
       "      <th>3</th>\n",
       "      <td>NaN</td>\n",
       "      <td>NaN</td>\n",
       "      <td>Wittmann</td>\n",
       "      <td>LOT</td>\n",
       "      <td>33.746326</td>\n",
       "      <td>-112.534320</td>\n",
       "      <td>NaN</td>\n",
       "      <td>383328.000</td>\n",
       "      <td>325000.0</td>\n",
       "      <td>AZ</td>\n",
       "      <td>28500 N Crozier Rd #0</td>\n",
       "      <td>85361</td>\n",
       "    </tr>\n",
       "    <tr>\n",
       "      <th>4</th>\n",
       "      <td>4.0</td>\n",
       "      <td>4.0</td>\n",
       "      <td>Litchfield Park</td>\n",
       "      <td>SINGLE_FAMILY</td>\n",
       "      <td>33.505280</td>\n",
       "      <td>-112.481155</td>\n",
       "      <td>3175.0</td>\n",
       "      <td>43603.560</td>\n",
       "      <td>1199000.0</td>\n",
       "      <td>AZ</td>\n",
       "      <td>4807 N 196th Dr</td>\n",
       "      <td>85340</td>\n",
       "    </tr>\n",
       "    <tr>\n",
       "      <th>...</th>\n",
       "      <td>...</td>\n",
       "      <td>...</td>\n",
       "      <td>...</td>\n",
       "      <td>...</td>\n",
       "      <td>...</td>\n",
       "      <td>...</td>\n",
       "      <td>...</td>\n",
       "      <td>...</td>\n",
       "      <td>...</td>\n",
       "      <td>...</td>\n",
       "      <td>...</td>\n",
       "      <td>...</td>\n",
       "    </tr>\n",
       "    <tr>\n",
       "      <th>20126</th>\n",
       "      <td>2.0</td>\n",
       "      <td>2.0</td>\n",
       "      <td>Seattle</td>\n",
       "      <td>CONDO</td>\n",
       "      <td>47.637856</td>\n",
       "      <td>-122.387930</td>\n",
       "      <td>1598.0</td>\n",
       "      <td>1533.312</td>\n",
       "      <td>1025000.0</td>\n",
       "      <td>WA</td>\n",
       "      <td>2100 Thorndyke Avenue W UNIT 301</td>\n",
       "      <td>98199</td>\n",
       "    </tr>\n",
       "    <tr>\n",
       "      <th>20127</th>\n",
       "      <td>2.0</td>\n",
       "      <td>2.0</td>\n",
       "      <td>Ocean Shores</td>\n",
       "      <td>MANUFACTURED</td>\n",
       "      <td>47.011555</td>\n",
       "      <td>-124.153100</td>\n",
       "      <td>1420.0</td>\n",
       "      <td>10933.560</td>\n",
       "      <td>399900.0</td>\n",
       "      <td>WA</td>\n",
       "      <td>766 Cardinal Avenue NE</td>\n",
       "      <td>98569</td>\n",
       "    </tr>\n",
       "    <tr>\n",
       "      <th>20128</th>\n",
       "      <td>2.0</td>\n",
       "      <td>3.0</td>\n",
       "      <td>Kirkland</td>\n",
       "      <td>SINGLE_FAMILY</td>\n",
       "      <td>47.661260</td>\n",
       "      <td>-122.184530</td>\n",
       "      <td>1620.0</td>\n",
       "      <td>9178.092</td>\n",
       "      <td>1328000.0</td>\n",
       "      <td>WA</td>\n",
       "      <td>11626 NE 60th Street</td>\n",
       "      <td>98033</td>\n",
       "    </tr>\n",
       "    <tr>\n",
       "      <th>20129</th>\n",
       "      <td>3.0</td>\n",
       "      <td>5.0</td>\n",
       "      <td>Kirkland</td>\n",
       "      <td>SINGLE_FAMILY</td>\n",
       "      <td>47.673360</td>\n",
       "      <td>-122.169520</td>\n",
       "      <td>3453.0</td>\n",
       "      <td>5018.112</td>\n",
       "      <td>2695000.0</td>\n",
       "      <td>WA</td>\n",
       "      <td>7710 127th Place NE</td>\n",
       "      <td>98033</td>\n",
       "    </tr>\n",
       "    <tr>\n",
       "      <th>20130</th>\n",
       "      <td>NaN</td>\n",
       "      <td>NaN</td>\n",
       "      <td>Roy</td>\n",
       "      <td>LOT</td>\n",
       "      <td>46.957207</td>\n",
       "      <td>-122.522410</td>\n",
       "      <td>0.0</td>\n",
       "      <td>217800.000</td>\n",
       "      <td>269950.0</td>\n",
       "      <td>WA</td>\n",
       "      <td>0 68th Avenue S</td>\n",
       "      <td>98580</td>\n",
       "    </tr>\n",
       "  </tbody>\n",
       "</table>\n",
       "<p>8163 rows × 12 columns</p>\n",
       "</div>"
      ],
      "text/plain": [
       "       bathrooms  bedrooms             city       homeType   latitude  \\\n",
       "0            2.0       3.0             Mesa  SINGLE_FAMILY  33.399773   \n",
       "1            2.0       3.0         Florence   MANUFACTURED  32.959890   \n",
       "2            2.0       3.0         Lakeside  SINGLE_FAMILY  34.197773   \n",
       "3            NaN       NaN         Wittmann            LOT  33.746326   \n",
       "4            4.0       4.0  Litchfield Park  SINGLE_FAMILY  33.505280   \n",
       "...          ...       ...              ...            ...        ...   \n",
       "20126        2.0       2.0          Seattle          CONDO  47.637856   \n",
       "20127        2.0       2.0     Ocean Shores   MANUFACTURED  47.011555   \n",
       "20128        2.0       3.0         Kirkland  SINGLE_FAMILY  47.661260   \n",
       "20129        3.0       5.0         Kirkland  SINGLE_FAMILY  47.673360   \n",
       "20130        NaN       NaN              Roy            LOT  46.957207   \n",
       "\n",
       "        longitude  livingArea  lotArea_sqft      price state  \\\n",
       "0     -111.664310      1835.0      6852.000   399900.0    AZ   \n",
       "1     -111.323830      1569.0     64699.668   255000.0    AZ   \n",
       "2     -109.907320      2260.0    100623.600   649000.0    AZ   \n",
       "3     -112.534320         NaN    383328.000   325000.0    AZ   \n",
       "4     -112.481155      3175.0     43603.560  1199000.0    AZ   \n",
       "...           ...         ...           ...        ...   ...   \n",
       "20126 -122.387930      1598.0      1533.312  1025000.0    WA   \n",
       "20127 -124.153100      1420.0     10933.560   399900.0    WA   \n",
       "20128 -122.184530      1620.0      9178.092  1328000.0    WA   \n",
       "20129 -122.169520      3453.0      5018.112  2695000.0    WA   \n",
       "20130 -122.522410         0.0    217800.000   269950.0    WA   \n",
       "\n",
       "                          streetAddress zipcode  \n",
       "0                     7732 E Pueblo Ave   85208  \n",
       "1                        8945 N Page Rd   85132  \n",
       "2               9347 Mountain Meadow Ln   85929  \n",
       "3                 28500 N Crozier Rd #0   85361  \n",
       "4                       4807 N 196th Dr   85340  \n",
       "...                                 ...     ...  \n",
       "20126  2100 Thorndyke Avenue W UNIT 301   98199  \n",
       "20127            766 Cardinal Avenue NE   98569  \n",
       "20128              11626 NE 60th Street   98033  \n",
       "20129               7710 127th Place NE   98033  \n",
       "20130                   0 68th Avenue S   98580  \n",
       "\n",
       "[8163 rows x 12 columns]"
      ]
     },
     "execution_count": 91,
     "metadata": {},
     "output_type": "execute_result"
    }
   ],
   "source": [
    "df_selected.drop_duplicates()"
   ]
  },
  {
   "cell_type": "code",
   "execution_count": 92,
   "id": "bf7f2988-b67b-4772-a6b1-412973c13368",
   "metadata": {},
   "outputs": [
    {
     "data": {
      "text/plain": [
       "bathrooms        18859\n",
       "bedrooms         18584\n",
       "city             20131\n",
       "homeType         20131\n",
       "latitude         20001\n",
       "longitude        20001\n",
       "livingArea       18357\n",
       "lotArea_sqft     17325\n",
       "price            20131\n",
       "state            20131\n",
       "streetAddress    20131\n",
       "zipcode          20131\n",
       "dtype: int64"
      ]
     },
     "execution_count": 92,
     "metadata": {},
     "output_type": "execute_result"
    }
   ],
   "source": [
    "df_selected.count()"
   ]
  },
  {
   "cell_type": "code",
   "execution_count": 93,
   "id": "79eec736-8e2f-4c61-9ce3-c4f525a83779",
   "metadata": {},
   "outputs": [],
   "source": [
    "\n",
    "df_selected.to_csv('all_filtered_results_dataset.csv', index=False)\n"
   ]
  },
  {
   "cell_type": "code",
   "execution_count": 1,
   "id": "14245759",
   "metadata": {},
   "outputs": [
    {
     "ename": "NameError",
     "evalue": "name 'df_selected' is not defined",
     "output_type": "error",
     "traceback": [
      "\u001b[1;31m---------------------------------------------------------------------------\u001b[0m",
      "\u001b[1;31mNameError\u001b[0m                                 Traceback (most recent call last)",
      "\u001b[1;32m~\\AppData\\Local\\Temp/ipykernel_9760/67788794.py\u001b[0m in \u001b[0;36m<module>\u001b[1;34m\u001b[0m\n\u001b[0;32m     14\u001b[0m \u001b[0mnumeric_columns\u001b[0m \u001b[1;33m=\u001b[0m \u001b[1;33m[\u001b[0m\u001b[1;34m'bathrooms'\u001b[0m\u001b[1;33m,\u001b[0m \u001b[1;34m'bedrooms'\u001b[0m\u001b[1;33m,\u001b[0m \u001b[1;34m'livingArea'\u001b[0m\u001b[1;33m,\u001b[0m \u001b[1;34m'lotArea_sqft'\u001b[0m\u001b[1;33m]\u001b[0m\u001b[1;33m\u001b[0m\u001b[1;33m\u001b[0m\u001b[0m\n\u001b[0;32m     15\u001b[0m \u001b[1;32mfor\u001b[0m \u001b[0mcol\u001b[0m \u001b[1;32min\u001b[0m \u001b[0mnumeric_columns\u001b[0m\u001b[1;33m:\u001b[0m\u001b[1;33m\u001b[0m\u001b[1;33m\u001b[0m\u001b[0m\n\u001b[1;32m---> 16\u001b[1;33m     \u001b[0mfill_missing_numeric\u001b[0m\u001b[1;33m(\u001b[0m\u001b[0mdf_selected\u001b[0m\u001b[1;33m,\u001b[0m \u001b[0mcol\u001b[0m\u001b[1;33m)\u001b[0m\u001b[1;33m\u001b[0m\u001b[1;33m\u001b[0m\u001b[0m\n\u001b[0m\u001b[0;32m     17\u001b[0m \u001b[1;33m\u001b[0m\u001b[0m\n\u001b[0;32m     18\u001b[0m \u001b[1;31m# Check for outlier detection: examining 'price', 'livingArea', and 'lotArea_sqft'\u001b[0m\u001b[1;33m\u001b[0m\u001b[1;33m\u001b[0m\u001b[0m\n",
      "\u001b[1;31mNameError\u001b[0m: name 'df_selected' is not defined"
     ]
    }
   ],
   "source": [
    "# Define helper functions for cleaning operations\n",
    "\n",
    "def fill_missing_numeric(df_selected, column):\n",
    "    \"\"\" Fill missing values in numeric columns with the median of the column \"\"\"\n",
    "    median = df_selected[column].median()\n",
    "    df_selected[column].fillna(median, inplace=True)\n",
    "\n",
    "def fill_missing_categorical(df_selected, column):\n",
    "    \"\"\" Fill missing values in categorical columns with the mode of the column \"\"\"\n",
    "    mode = df_selected[column].mode()[0]\n",
    "    df_selected[column].fillna(mode, inplace=True)\n",
    "\n",
    "# Fill missing values for numeric columns\n",
    "numeric_columns = ['bathrooms', 'bedrooms', 'livingArea', 'lotArea_sqft']\n",
    "for col in numeric_columns:\n",
    "    fill_missing_numeric(df_selected, col)\n",
    "\n",
    "# Check for outlier detection: examining 'price', 'livingArea', and 'lotArea_sqft'\n",
    "df_selected.describe(percentiles=[.01, .05, .25, .75, .95, .99])"
   ]
  },
  {
   "cell_type": "markdown",
   "id": "be1f6095-9e74-4a41-a67f-a015523edc16",
   "metadata": {},
   "source": [
    "## Data Process\n",
    "\n",
    "**Data Collection**\n",
    "For the house pricing regression model, meaningful data is collected using the Zillow API available through RapidAPI. This API offers access to comprehensive real estate data covering most U.S. states, including property details such as square footage, location, number of bedrooms, and historical transaction prices.\n",
    "\n",
    "**Data Governance**\n",
    "Given the sensitivity and commercial value of real estate data, our usage of the Zillow API through RapidAPI adheres to the terms and conditions set forth by both Zillow and RapidAPI. This ensures that the data used for predictive modeling is collected ethically and legally.\n",
    "\n",
    "**Data Preprocessing**\n",
    "Once the data is collected in JSON format from the API, the following preprocessing steps are undertaken to prepare it for analysis:\n",
    "- **Conversion**: Convert JSON data to a CSV format for easier manipulation and analysis.\n",
    "- **Cleaning**: Review the dataset to identify and remove null values, correct data entry errors, and handle outliers that could skew the predictive modeling.\n",
    "- **Standardization**: Standardize data types and column names to ensure consistency across the dataset. This step is crucial for integrating data from various sources and states.\n",
    "\n",
    "**Data Transformation**\n",
    "To transform the raw data into a format suitable for regression analysis, we perform several operations:\n",
    "- **Feature Engineering**: Generate new features that may influence house prices, such as price per square foot, age of the property, and proximity to key amenities.\n",
    "- **Normalization**: Apply normalization techniques to scale numerical data, ensuring that the model isn’t biased toward variables on larger scales.\n",
    "- **Dimensionality Reduction**: Given the extensive dataset, apply Principal Component Analysis (PCA) or Truncated Singular Value Decomposition (TSVD) to reduce the number of features while preserving the most informative aspects for regression.\n",
    "\n",
    "**Model Development and Evaluation**\n",
    "- **Splitting Data**: Divide the dataset into training, testing, and validation segments with a 60:20:20 ratio. This segmentation allows for comprehensive training and unbiased evaluation of the model's performance.\n",
    "- **Regression Analysis**: Train regression models such as Linear Regression, Ridge, Lasso, and more advanced ensemble methods like Gradient Boosting and Random Forest to predict house prices.\n",
    "- **Model Optimization**: Use grid search and cross-validation techniques to fine-tune hyperparameters and select the model that offers the best balance of accuracy and performance.\n",
    "\n",
    "**Integration and Finalization**\n",
    "- **User Interface**: Develop a user-friendly interface that allows real estate professionals and potential buyers to input property details and receive price estimates.\n",
    "- **Model Deployment**: Integrate the final model into a web-based platform, ensuring it remains responsive and accurate as new data becomes available.\n",
    "- **Data Storage**: Save the transformed and cleaned datasets in CSV format for ongoing use and future model retraining.\n",
    "\n",
    "**Quality Control and Outcomes**\n",
    "- **Evaluation Metrics**: Employ metrics such as Mean Absolute Error (MAE), Root Mean Squared Error (RMSE), and R² to assess the precision and efficacy of the regression models.\n",
    "- **Documentation and Reporting**: Maintain thorough documentation of the data collection, model development, and evaluation processes to ensure transparency and reproducibility.\n",
    "\n",
    "This structured approach ensures that the house pricing regression model is robust, scalable, and capable of delivering accurate price predictions that cater to the dynamic needs of the real estate market."
   ]
  },
  {
   "cell_type": "markdown",
   "id": "db5f8d2f-d2f7-42af-ae48-1478ffcaca78",
   "metadata": {},
   "source": [
    "## Data Collection Plan for Zillow Housing Dataset**\n",
    "\n",
    "**Description of the data collection - Zillow API via RapidAPI**\n",
    "Zillow's API, accessed through RapidAPI, is a rich resource for real estate data. It aggregates property listings, historical transaction data, and other relevant real estate information which can be instrumental in developing predictive models for housing prices across most U.S. states.\n",
    "\n",
    "**Why are we collecting data?**\n",
    "We are collecting this data to create a comprehensive predictive model for housing prices. The dataset will support the development of regression models that can forecast prices based on a variety of property features and market conditions.\n",
    "\n",
    "**How will the data help?**\n",
    "The data collected from Zillow will provide us with a multitude of property attributes that are crucial for determining house valuations, such as the number of bathrooms, home type, and square footage, as well as market trends indicated by variables like days on Zillow and price changes.\n",
    "\n",
    "**What should we do after collecting data?**\n",
    "Post-collection, we will perform an extensive cleaning and preprocessing routine to ensure the quality and usability of the data for regression analysis.\n",
    "\n",
    "**Key Variables / Data Table**\n",
    "| Variable # | Variable Title           | Unit of Measurement     | Data Type     | Collection Method |\n",
    "|------------|--------------------------|-------------------------|---------------|-------------------|\n",
    "| 1          | bathrooms                | Count                   | Float         | API               |\n",
    "| 2          | bedrooms                 | Count                   | Integer       | API               |\n",
    "| ...        | ...                      | ...                     | ...           | ...               |\n",
    "| n          | videoCount               | Count                   | Integer       | API               |\n",
    "\n",
    "**Data Process**\n",
    "- **Conversion**: Data initially retrieved in JSON format will be converted to CSV for ease of use.\n",
    "- **Cleaning**: The dataset will be scrutinized for missing or anomalous data entries, and any such entries will be addressed accordingly.\n",
    "- **Standardization**: Ensure all data types and formats are consistent, and the column names follow a standardized naming convention to facilitate data integration and analysis.\n",
    "\n",
    "**Data Transformation**\n",
    "- **Feature Engineering**: Derive new features that could enhance the model's accuracy, such as the price per square foot or the ratio of living area to lot size.\n",
    "- **Normalization and Scaling**: Apply appropriate scaling techniques to the numerical data to bring all the variables onto a comparable scale, which is essential for certain regression algorithms.\n",
    "- **Dimensionality Reduction**: For high-dimensional data, apply dimensionality reduction techniques like PCA to distill the data to its most informative components.\n",
    "\n",
    "**Data Split**\n",
    "- The data will be split into training, validation, and testing sets with the ratio of 60:20:20, ensuring the diversity and representation across the dataset.\n",
    "\n",
    "**Outcome Measurement**\n",
    "- **Evaluation Metrics**: Determine model performance using metrics like MAE, RMSE, and adjusted R².\n",
    "- **Quality Control**: Conduct validation checks and model diagnostics to ensure robust and reliable model performance.\n",
    "\n",
    "**Data Storage**\n",
    "- The cleaned and transformed dataset will be stored in a CSV file format for accessibility and ease of use in the model development phase.\n",
    "\n",
    "**Project Documentation**\n",
    "- **Data Collector**: Document the name of the personnel responsible for data collection.\n",
    "- **Date Duration**: Note the time frame for the data collection process.\n",
    "\n",
    "By adhering to this plan, we aim to develop a data-driven model with the capacity to provide accurate and actionable insights into the housing market."
   ]
  },
  {
   "cell_type": "markdown",
   "id": "879e11f2-cccc-46fb-a178-30e42ba1378b",
   "metadata": {},
   "source": [
    "Summary of  Data From zillow Using a Pandas Data Frame\n"
   ]
  },
  {
   "cell_type": "code",
   "execution_count": 99,
   "id": "e048da2e-b6b9-452c-8891-af737e2343fa",
   "metadata": {},
   "outputs": [
    {
     "name": "stdout",
     "output_type": "stream",
     "text": [
      "<class 'pandas.core.frame.DataFrame'>\n",
      "RangeIndex: 20131 entries, 0 to 20130\n",
      "Data columns (total 12 columns):\n",
      " #   Column         Non-Null Count  Dtype  \n",
      "---  ------         --------------  -----  \n",
      " 0   bathrooms      18859 non-null  float64\n",
      " 1   bedrooms       18584 non-null  float64\n",
      " 2   city           20131 non-null  object \n",
      " 3   homeType       20131 non-null  object \n",
      " 4   latitude       20001 non-null  float64\n",
      " 5   longitude      20001 non-null  float64\n",
      " 6   livingArea     18357 non-null  float64\n",
      " 7   lotArea_sqft   17325 non-null  float64\n",
      " 8   price          20131 non-null  float64\n",
      " 9   state          20131 non-null  object \n",
      " 10  streetAddress  20131 non-null  object \n",
      " 11  zipcode        20131 non-null  object \n",
      "dtypes: float64(7), object(5)\n",
      "memory usage: 1.8+ MB\n"
     ]
    }
   ],
   "source": [
    "df_selected.info()"
   ]
  },
  {
   "cell_type": "markdown",
   "id": "a8fc7c58-bd83-44f9-ba6f-4da7c0297f34",
   "metadata": {},
   "source": [
    "## Dataset Samples of Raw Data Resources for Zillow Housing Dataset**\n",
    "\n",
    "The acquisition of housing market data through the Zillow API, facilitated via RapidAPI, was strategically executed with attention to variables that critically influence property valuations. The aim was to gather comprehensive and nuanced data sets that provide depth and context for house price predictions.\n",
    "\n",
    "**Data Extraction Strategy**\n",
    "The data collected encompasses a spectrum of property features and market conditions known to affect housing prices. Such variables include the number of bathrooms, bedrooms, type of home, geographic coordinates, area specifications, and price. This holistic approach ensures that our models are fed with pertinent information that reflects real-world housing market dynamics.\n",
    "\n",
    "**Data Annotation and Preprocessing**\n",
    "After initial data retrieval, the raw data was manually reviewed and annotated to ensure coherence and accuracy. This step was pivotal to integrate the Zillow data with pre-labeled data from other repositories, such as Kaggle, to build a robust training set for our predictive models. Domain expertise and insights from housing market studies provided the necessary foundation for informed data annotation.\n",
    "\n",
    "**Sample Data Overview**\n",
    "An exemplary batch of data from the Zillow API contains several attributes represented in a CSV file. The dataset size is considerable, with an average of 20,131 entries, each providing detailed information about individual housing units. Below is an illustration of the data structure, reflecting a subset of the variables collected:\n",
    "\n",
    "```\n",
    "Sample Data for Collected Zillow Properties\n",
    " #   Column         Example Entry    Dtype\n",
    "---  ------         -------------    -----\n",
    " 0   bathrooms      2                float64\n",
    " 1   bedrooms       3                float64\n",
    " 2   city           \"Los Angeles\"    object \n",
    " 3   homeType       \"SingleFamily\"   object \n",
    " 4   latitude       34.0522          float64\n",
    " 5   longitude      -118.2437        float64\n",
    " 6   livingArea     1800             float64\n",
    " 7   lotArea_sqft   6750             float64\n",
    " 8   price          750000           float64\n",
    " 9   state          \"CA\"             object \n",
    " 10  streetAddress  \"123 Main St\"    object \n",
    " 11  zipcode        \"90001\"          object \n",
    "```\n",
    "\n",
    "**Data Integrity and Null Value Management**\n",
    "An analysis of the dataset's completeness highlighted that most columns are fully populated. However, columns such as 'bathrooms', 'bedrooms', and 'livingArea' show a degree of missing data, which necessitates careful handling to maintain the integrity of the dataset for regression analysis.\n",
    "\n",
    "**Memory and Dataframe Information**\n",
    "The dataset's memory footprint was evaluated, and appropriate data handling techniques were employed to ensure efficient processing and analysis without compromising computational resources.\n",
    "\n",
    "**Dataframe Structure**\n",
    "The dataframe structure was systematically outlined, detailing non-null counts and data types, which facilitated a comprehensive understanding of the dataset's form and substance.\n",
    "\n",
    "By meticulously collecting, annotating, and structuring the housing market data, we have laid the groundwork for the development of a sophisticated house pricing regression model. This data-driven approach is poised to yield a tool capable of generating reliable price predictions, thus serving as a valuable asset for stakeholders in the real estate ecosystem."
   ]
  },
  {
   "cell_type": "code",
   "execution_count": 98,
   "id": "dc07ba1a-4d52-438b-8786-a7a00d7e516e",
   "metadata": {},
   "outputs": [
    {
     "name": "stdout",
     "output_type": "stream",
     "text": [
      "<class 'pandas.core.frame.DataFrame'>\n",
      "RangeIndex: 20131 entries, 0 to 20130\n",
      "Data columns (total 12 columns):\n",
      " #   Column         Non-Null Count  Dtype  \n",
      "---  ------         --------------  -----  \n",
      " 0   bathrooms      18859 non-null  float64\n",
      " 1   bedrooms       18584 non-null  float64\n",
      " 2   city           20131 non-null  object \n",
      " 3   homeType       20131 non-null  object \n",
      " 4   latitude       20001 non-null  float64\n",
      " 5   longitude      20001 non-null  float64\n",
      " 6   livingArea     18357 non-null  float64\n",
      " 7   lotArea_sqft   17325 non-null  float64\n",
      " 8   price          20131 non-null  float64\n",
      " 9   state          20131 non-null  object \n",
      " 10  streetAddress  20131 non-null  object \n",
      " 11  zipcode        20131 non-null  object \n",
      "dtypes: float64(7), object(5)\n",
      "memory usage: 1.8+ MB\n"
     ]
    }
   ],
   "source": []
  },
  {
   "cell_type": "markdown",
   "id": "68d92683-9882-4a40-8bbc-2635f2ca023c",
   "metadata": {},
   "source": [
    "## Data Pre-processing\n",
    "As we have datasets from four different sources, each of them has a different pattern,\n",
    "different types of outliers in the context of the number of words in the posts, the presence or\n",
    "absence of null values, the different number of columns, hence before merging them we will\n",
    "look at them separately and perform initial level cleaning on them. This helps us take the\n",
    "leverage of different types of data in separate files to normalize them so that they are equivalent\n",
    "before we merge them. Once we have done that, we will combine the datasets.\n",
    "\n",
    "For house price prediction, selecting relevant features (columns) is crucial because they directly influence the accuracy and effectiveness of the model. Here’s a breakdown of the columns you listed and their relevance to house price prediction:\n",
    "\n",
    "Highly Relevant Columns\n",
    "bathrooms: Number of bathrooms in the house.\n",
    "bedrooms: Number of bedrooms in the house.\n",
    "city: City where the house is located.\n",
    "homeType: Type of home (e.g., single-family, condo, etc.).\n",
    "livingArea: Square footage of the living area.\n",
    "latitude and longitude: Geographical coordinates can be very predictive due to location dependence of house prices.\n",
    "lotAreaValue: Size of the lot which can impact price.\n",
    "price: Sale price of the house, often the target variable in prediction models.\n",
    "state: State where the house is located.\n",
    "streetAddress: Specific address of the property.\n",
    "zipcode: Zip code for location-based pricing trends.\n",
    "Moderately Relevant Columns\n",
    "daysOnZillow: How long the property has been listed; may indicate market temperature.\n",
    "homeStatus: Current status of the home (e.g., for sale, sold, etc.).\n",
    "lotAreaUnit: The unit of measurement for the lot area (e.g., square feet, acres).\n",
    "taxAssessedValue: Assessed value for tax purposes, often correlated with market value.\n",
    "zestimate: Zillow’s estimated market value, useful for comparative analysis.\n",
    "datePriceChanged: Last date the price was changed, can indicate pricing dynamics.\n",
    "priceChange: Recent changes in the listing price, which might indicate market trends or seller flexibility.\n",
    "openHouse: Indicates if there is an open house planned, can affect interest and quick sale possibility.\n",
    "Less Relevant Columns\n",
    "\n",
    "country, currency: These are typically constant within datasets for a specific country and hence provide little predictive power.\n",
    "homeStatusForHDP, imgSrc, isFeatured, isNonOwnerOccupied, isPreforeclosureAuction, isPremierBuilder, isShowcaseListing, isUnmappable, isZillowOwned: These factors are more about listing specifics and Zillow’s internal metrics, which might not be directly related to actual market value.\n",
    "listing_sub_type, newConstructionType, comingSoonOnMarketDate, group_type: Can be relevant in niche contexts but generally less critical.\n",
    "providerListingID, isRentalWithBasePrice: These are administrative or specific to rentals, thus less relevant for selling price prediction.\n",
    "Figure 27\n",
    "Sample Dataset After Changing Column Names and Dropping Unnecessary Columns"
   ]
  },
  {
   "cell_type": "markdown",
   "id": "d49bbbc9-bdc8-4371-9db4-e44dccd07f8d",
   "metadata": {},
   "source": [
    "# do this in more detailed form"
   ]
  },
  {
   "cell_type": "markdown",
   "id": "4b07f86b-5d97-4cd3-8cf7-1ab27a344bc6",
   "metadata": {},
   "source": [
    "## 3.5 Data Preparation (0.5 point) \n",
    "Prepare training, validation and test datasets from transformed datasets; (0.4 point) \n",
    "Present samples from training, validation and test datasets.(0.1 point)\n",
    "\n",
    "## 3.6 Data Statistics (0.5 point)  -> karthik will do this\n",
    "Summarize the results of progressive results for including deriving raw, pre-processed, transformed and prepared datasets; (0.4 point) \n",
    "Statistically present the results in visualization formats. (0.1 point) "
   ]
  },
  {
   "cell_type": "markdown",
   "id": "4a4d7f3b-51e6-456b-886b-91173c8fe4e9",
   "metadata": {},
   "source": [
    "# EDA"
   ]
  },
  {
   "cell_type": "code",
   "execution_count": 101,
   "id": "02d8c86b-0a2c-4a30-8b1c-58d226fbfd06",
   "metadata": {},
   "outputs": [
    {
     "name": "stderr",
     "output_type": "stream",
     "text": [
      "C:\\Users\\SHRIRANGA\\anaconda3\\Lib\\site-packages\\seaborn\\_oldcore.py:1119: FutureWarning: use_inf_as_na option is deprecated and will be removed in a future version. Convert inf values to NaN before operating instead.\n",
      "  with pd.option_context('mode.use_inf_as_na', True):\n"
     ]
    },
    {
     "data": {
      "image/png": "[encoded data removed]",
      "text/plain": [
       "<Figure size 1000x400 with 1 Axes>"
      ]
     },
     "metadata": {},
     "output_type": "display_data"
    },
    {
     "name": "stderr",
     "output_type": "stream",
     "text": [
      "C:\\Users\\SHRIRANGA\\anaconda3\\Lib\\site-packages\\seaborn\\_oldcore.py:1119: FutureWarning: use_inf_as_na option is deprecated and will be removed in a future version. Convert inf values to NaN before operating instead.\n",
      "  with pd.option_context('mode.use_inf_as_na', True):\n"
     ]
    },
    {
     "data": {
      "image/png": "[encoded data removed]",
      "text/plain": [
       "<Figure size 1000x400 with 1 Axes>"
      ]
     },
     "metadata": {},
     "output_type": "display_data"
    },
    {
     "name": "stderr",
     "output_type": "stream",
     "text": [
      "C:\\Users\\SHRIRANGA\\anaconda3\\Lib\\site-packages\\seaborn\\_oldcore.py:1119: FutureWarning: use_inf_as_na option is deprecated and will be removed in a future version. Convert inf values to NaN before operating instead.\n",
      "  with pd.option_context('mode.use_inf_as_na', True):\n"
     ]
    },
    {
     "data": {
      "image/png": "[encoded data removed]",
      "text/plain": [
       "<Figure size 1000x400 with 1 Axes>"
      ]
     },
     "metadata": {},
     "output_type": "display_data"
    },
    {
     "name": "stderr",
     "output_type": "stream",
     "text": [
      "C:\\Users\\SHRIRANGA\\anaconda3\\Lib\\site-packages\\seaborn\\_oldcore.py:1119: FutureWarning: use_inf_as_na option is deprecated and will be removed in a future version. Convert inf values to NaN before operating instead.\n",
      "  with pd.option_context('mode.use_inf_as_na', True):\n"
     ]
    },
    {
     "data": {
      "image/png": "[encoded data removed]",
      "text/plain": [
       "<Figure size 1000x400 with 1 Axes>"
      ]
     },
     "metadata": {},
     "output_type": "display_data"
    },
    {
     "name": "stderr",
     "output_type": "stream",
     "text": [
      "C:\\Users\\SHRIRANGA\\anaconda3\\Lib\\site-packages\\seaborn\\_oldcore.py:1119: FutureWarning: use_inf_as_na option is deprecated and will be removed in a future version. Convert inf values to NaN before operating instead.\n",
      "  with pd.option_context('mode.use_inf_as_na', True):\n"
     ]
    },
    {
     "data": {
      "image/png": "[encoded data removed]",
      "text/plain": [
       "<Figure size 1000x400 with 1 Axes>"
      ]
     },
     "metadata": {},
     "output_type": "display_data"
    },
    {
     "name": "stderr",
     "output_type": "stream",
     "text": [
      "C:\\Users\\SHRIRANGA\\anaconda3\\Lib\\site-packages\\seaborn\\_oldcore.py:1119: FutureWarning: use_inf_as_na option is deprecated and will be removed in a future version. Convert inf values to NaN before operating instead.\n",
      "  with pd.option_context('mode.use_inf_as_na', True):\n",
      "\n",
      "KeyboardInterrupt\n",
      "\n"
     ]
    }
   ],
   "source": [
    "import matplotlib.pyplot as plt\n",
    "import seaborn as sns\n",
    "\n",
    "# Perform a basic Exploratory Data Analysis (EDA) on the selected DataFrame\n",
    "\n",
    "# Basic statistics for numerical columns\n",
    "stats = df_selected.describe()\n",
    "\n",
    "# Distribution plots for numerical features\n",
    "for column in df_selected.select_dtypes(include=['float64', 'int64']).columns:\n",
    "    plt.figure(figsize=(10, 4))\n",
    "    sns.histplot(df_selected[column], kde=True)\n",
    "    plt.title(f'Distribution of {column}')\n",
    "    plt.show()\n",
    "\n",
    "# Boxplots for numerical features to identify outliers\n",
    "for column in df_selected.select_dtypes(include=['float64', 'int64']).columns:\n",
    "    plt.figure(figsize=(10, 4))\n",
    "    sns.boxplot(x=df_selected[column])\n",
    "    plt.title(f'Boxplot of {column}')\n",
    "    plt.show()\n",
    "\n",
    "# Correlation heatmap to visualize correlations between numerical features\n",
    "correlation_matrix = df_selected.corr()\n",
    "plt.figure(figsize=(12, 8))\n",
    "sns.heatmap(correlation_matrix, annot=True, cmap='coolwarm')\n",
    "plt.title('Correlation Heatmap')\n",
    "plt.show()\n",
    "\n",
    "# For categorical features: count plots to understand the distribution\n",
    "for column in df_selected.select_dtypes(include=['object']).columns:\n",
    "    plt.figure(figsize=(10, 4))\n",
    "    sns.countplot(y=df_selected[column])\n",
    "    plt.title(f'Distribution of {column}')\n",
    "    plt.show()\n",
    "\n",
    "# Output the basic statistics\n",
    "stats\n"
   ]
  },
  {
   "cell_type": "code",
   "execution_count": null,
   "id": "e0b9912d-120b-46ff-94af-631a1afb8049",
   "metadata": {},
   "outputs": [],
   "source": []
  },
  {
   "cell_type": "markdown",
   "id": "7a665698-a640-4333-a27c-c0972c3973e0",
   "metadata": {},
   "source": [
    "## Creating a detailed Data Flow Diagram (DFD) for data transformation in the context of preparing a Zillow housing dataset would involve several stages. Here is a textual description of what such a DFD might entail, from the extraction of data to its final form, ready for analysis:\n",
    "\n",
    "**Level 0: Data Collection and Input**\n",
    "- **External Entity**: Zillow API via RapidAPI.\n",
    "- **Data Store**: Raw Data Repository.\n",
    "- **Process**: Data Extraction.\n",
    "\n",
    "**Level 1: Data Preprocessing**\n",
    "- **Process 1.1**: Data Cleaning\n",
    "  - **Input**: Raw Data Repository.\n",
    "  - **Output**: Clean Data Store.\n",
    "  - Sub-Processes:\n",
    "    - Remove null values.\n",
    "    - Detect and handle outliers.\n",
    "    - Normalize text entries.\n",
    "  \n",
    "- **Process 1.2**: Data Transformation\n",
    "  - **Input**: Clean Data Store.\n",
    "  - **Output**: Transformed Data Store.\n",
    "  - Sub-Processes:\n",
    "    - Feature engineering.\n",
    "    - Encoding categorical variables.\n",
    "    - Scaling and normalization of numerical variables.\n",
    "\n",
    "- **Process 1.3**: Data Standardization\n",
    "  - **Input**: Transformed Data Store.\n",
    "  - **Output**: Standardized Data Store.\n",
    "  - Sub-Processes:\n",
    "    - Standardize column names.\n",
    "    - Ensure consistent data types.\n",
    "    - Align datasets for merging.\n",
    "\n",
    "**Level 2: Data Integration**\n",
    "- **Process 2.1**: Data Merging\n",
    "  - **Input**: Standardized Data Stores (from multiple sources if necessary).\n",
    "  - **Output**: Integrated Data Set.\n",
    "  - Sub-Processes:\n",
    "    - Merge datasets on key identifiers.\n",
    "    - Resolve conflicts from data overlap.\n",
    "\n",
    "**Level 3: Data Segregation for Model Development**\n",
    "- **Process 3.1**: Data Splitting\n",
    "  - **Input**: Integrated Data Set.\n",
    "  - **Output**: Training Set, Validation Set, Test Set.\n",
    "  - Sub-Processes:\n",
    "    - Split data based on predefined ratios.\n",
    "    - Ensure stratified sampling if needed.\n",
    "\n",
    "**Level 4: Final Data Output for Modeling**\n",
    "- **Process 4.1**: Data Finalization\n",
    "  - **Input**: Training Set, Validation Set, Test Set.\n",
    "  - **Output**: Data Ready for Regression Analysis.\n",
    "  - Sub-Processes:\n",
    "    - Final integrity check.\n",
    "    - Export data to CSV or database for model access.\n",
    "\n",
    "In a visual DFD, these stages would be connected with arrows indicating the flow of data, and each data store, external entity, and process would be represented by standard DFD symbols. Data flows between processes, entities, and data stores showing how the input data is transformed step by step into a format suitable for machine learning model development."
   ]
  },
  {
   "cell_type": "code",
   "execution_count": 97,
   "id": "c829915f-e30f-4726-823f-12c662aa3fd4",
   "metadata": {},
   "outputs": [],
   "source": [
    "#bathrooms\tbedrooms\tcity\thomeType\tlatitude\tlivingArea\tlongitude\tlotArea_sqft\tprice\t      state\t      streetAddress\tzipcode\t\t\t\t\t\t\t\t\t\t\t\t\t\t\t\t\t\t\t\t\t\t\t\t\t\t\t\t\t\t\t\t\n",
    "#full_baths  beds        city    style        latitude    sqft       longitude   lot_sqft        sold_price    state        street\n"
   ]
  }
 ],
 "metadata": {
  "kernelspec": {
   "display_name": "Python 3 (ipykernel)",
   "language": "python",
   "name": "python3"
  },
  "language_info": {
   "codemirror_mode": {
    "name": "ipython",
    "version": 3
   },
   "file_extension": ".py",
   "mimetype": "text/x-python",
   "name": "python",
   "nbconvert_exporter": "python",
   "pygments_lexer": "ipython3",
   "version": "3.9.7"
  }
 },
 "nbformat": 4,
 "nbformat_minor": 5
}
